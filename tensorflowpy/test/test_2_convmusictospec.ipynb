{
 "cells": [
  {
   "cell_type": "markdown",
   "metadata": {},
   "source": [
    "Task:\n",
    "- find a way to convert music in mp3 or wav format to spectrogram images that can be used by the ai model"
   ]
  },
  {
   "cell_type": "code",
   "execution_count": null,
   "metadata": {},
   "outputs": [],
   "source": [
    "import numpy as np\n",
    "import librosa\n",
    "import librosa.display\n",
    "import soundfile as sf"
   ]
  },
  {
   "cell_type": "code",
   "execution_count": null,
   "metadata": {},
   "outputs": [],
   "source": [
    "audio_name = '../kicks/kick1'\n",
    "hop_length = 512 # 256 512 1024 2048 4096 8192 16384\n",
    "window_size = 2048 \n",
    "window = np.hanning(window_size)    \n",
    "\n",
    "# load file\n",
    "audio, sample_rate = librosa.load(\"{0}.wav\".format(audio_name))\n",
    "\n",
    "# convert to spectrogram\n",
    "spectrum = librosa.stft(audio, n_fft=window_size, hop_length=hop_length, window=window)\n",
    "# spectrum = 2 * np.abs(spectrum) / np.sum(window)\n",
    "\n",
    "librosa.display.specshow(librosa.amplitude_to_db(spectrum, ref=np.max), y_axis='log', x_axis='time')"
   ]
  },
  {
   "cell_type": "code",
   "execution_count": null,
   "metadata": {},
   "outputs": [],
   "source": [
    "# convert back\n",
    "reconstructed_audio = librosa.istft(spectrum, n_fft=window_size, hop_length=hop_length, window=window)\n",
    "\n",
    "# write to file\n",
    "sf.write(\"{0}_recon.wav\".format(audio_name), reconstructed_audio, sample_rate, 'PCM_24')\n",
    "\n",
    "print ('Error: {0}'.format(sum(audio[:len(reconstructed_audio)] - reconstructed_audio)))"
   ]
  }
 ],
 "metadata": {
  "kernelspec": {
   "display_name": "Python 3.10.4 64-bit",
   "language": "python",
   "name": "python3"
  },
  "language_info": {
   "codemirror_mode": {
    "name": "ipython",
    "version": 3
   },
   "file_extension": ".py",
   "mimetype": "text/x-python",
   "name": "python",
   "nbconvert_exporter": "python",
   "pygments_lexer": "ipython3",
   "version": "3.10.4"
  },
  "orig_nbformat": 4,
  "vscode": {
   "interpreter": {
    "hash": "916dbcbb3f70747c44a77c7bcd40155683ae19c65e1c03b4aa3499c5328201f1"
   }
  }
 },
 "nbformat": 4,
 "nbformat_minor": 2
}

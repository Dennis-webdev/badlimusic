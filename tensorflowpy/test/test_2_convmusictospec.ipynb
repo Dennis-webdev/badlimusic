{
 "cells": [
  {
   "cell_type": "markdown",
   "metadata": {},
   "source": [
    "Task:\n",
    "- find a way to convert music in mp3 or wav format to spectrogram images that can be used by the ai model"
   ]
  },
  {
   "cell_type": "code",
   "execution_count": 3,
   "metadata": {},
   "outputs": [
    {
     "name": "stderr",
     "output_type": "stream",
     "text": [
      "UsageError: unrecognized arguments: # qt\n"
     ]
    }
   ],
   "source": [
    "%matplotlib inline \n",
    "# qt\n",
    "import matplotlib.pyplot as plt\n",
    "from matplotlib import cm\n",
    "\n",
    "import numpy as np\n",
    "import pandas as pd\n",
    "\n",
    "import librosa\n",
    "import librosa.display\n",
    "import soundfile as sf"
   ]
  },
  {
   "cell_type": "code",
   "execution_count": 4,
   "metadata": {},
   "outputs": [
    {
     "ename": "NameError",
     "evalue": "name 'np' is not defined",
     "output_type": "error",
     "traceback": [
      "\u001b[0;31m---------------------------------------------------------------------------\u001b[0m",
      "\u001b[0;31mNameError\u001b[0m                                 Traceback (most recent call last)",
      "Cell \u001b[0;32mIn [4], line 4\u001b[0m\n\u001b[1;32m      2\u001b[0m hop_length \u001b[38;5;241m=\u001b[39m \u001b[38;5;241m512\u001b[39m \u001b[38;5;66;03m# 256 512 1024 2048 4096 8192 16384\u001b[39;00m\n\u001b[1;32m      3\u001b[0m window_size \u001b[38;5;241m=\u001b[39m \u001b[38;5;241m2048\u001b[39m \n\u001b[0;32m----> 4\u001b[0m window \u001b[38;5;241m=\u001b[39m \u001b[43mnp\u001b[49m\u001b[38;5;241m.\u001b[39mhanning(window_size)    \n\u001b[1;32m      6\u001b[0m \u001b[38;5;66;03m# load file\u001b[39;00m\n\u001b[1;32m      7\u001b[0m audio, sample_rate \u001b[38;5;241m=\u001b[39m librosa\u001b[38;5;241m.\u001b[39mload(\u001b[38;5;124m\"\u001b[39m\u001b[38;5;132;01m{0}\u001b[39;00m\u001b[38;5;124m.wav\u001b[39m\u001b[38;5;124m\"\u001b[39m\u001b[38;5;241m.\u001b[39mformat(audio_name))\n",
      "\u001b[0;31mNameError\u001b[0m: name 'np' is not defined"
     ]
    }
   ],
   "source": [
    "audio_name = '../kicks/kick1'\n",
    "hop_length = 512 # 256 512 1024 2048 4096 8192 16384\n",
    "window_size = 2048 \n",
    "window = np.hanning(window_size)    \n",
    "\n",
    "# load file\n",
    "audio, sample_rate = librosa.load(\"{0}.wav\".format(audio_name))\n",
    "\n",
    "# convert to spectrogram\n",
    "spectrum = librosa.stft(audio, n_fft=window_size, hop_length=hop_length, window=window)\n",
    "\n",
    "spectrum_display = 2 * np.abs(spectrum) / np.sum(window)\n",
    "librosa.display.specshow(librosa.amplitude_to_db(spectrum_display, ref=np.max), y_axis='log', x_axis='time')"
   ]
  },
  {
   "cell_type": "code",
   "execution_count": null,
   "metadata": {},
   "outputs": [],
   "source": [
    "fig, ax = plt.subplots(subplot_kw={\"projection\": \"3d\"})\n",
    "\n",
    "# make data.\n",
    "X = np.arange(len(spectrum_display[0,:]))\n",
    "Y = np.arange(len(spectrum_display[:30,0]))\n",
    "X, Y = np.meshgrid(X, Y)\n",
    "Z = spectrum_display[Y,X]\n",
    "\n",
    "# plot the surface.\n",
    "surf = ax.plot_surface(X, Y, Z, cmap=cm.coolwarm, linewidth=0, antialiased=False)\n",
    "plt.show()"
   ]
  },
  {
   "cell_type": "code",
   "execution_count": null,
   "metadata": {},
   "outputs": [],
   "source": [
    "# convert back\n",
    "reconstructed_audio = librosa.istft(spectrum, n_fft=window_size, hop_length=hop_length, window=window)\n",
    "\n",
    "# write to file\n",
    "sf.write(\"{0}_recon.wav\".format(audio_name), reconstructed_audio, sample_rate, 'PCM_24')\n",
    "\n",
    "print ('Error: {0}'.format(sum(audio[:len(reconstructed_audio)] - reconstructed_audio)))"
   ]
  }
 ],
 "metadata": {
  "kernelspec": {
   "display_name": "Python 3.10.4 64-bit",
   "language": "python",
   "name": "python3"
  },
  "language_info": {
   "codemirror_mode": {
    "name": "ipython",
    "version": 3
   },
   "file_extension": ".py",
   "mimetype": "text/x-python",
   "name": "python",
   "nbconvert_exporter": "python",
   "pygments_lexer": "ipython3",
   "version": "3.10.4"
  },
  "orig_nbformat": 4,
  "vscode": {
   "interpreter": {
    "hash": "916dbcbb3f70747c44a77c7bcd40155683ae19c65e1c03b4aa3499c5328201f1"
   }
  }
 },
 "nbformat": 4,
 "nbformat_minor": 2
}
